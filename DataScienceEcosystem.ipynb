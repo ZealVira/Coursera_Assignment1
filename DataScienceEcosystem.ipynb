{
  "metadata": {
    "kernelspec": {
      "name": "python",
      "display_name": "Python (Pyodide)",
      "language": "python"
    },
    "language_info": {
      "codemirror_mode": {
        "name": "python",
        "version": 3
      },
      "file_extension": ".py",
      "mimetype": "text/x-python",
      "name": "python",
      "nbconvert_exporter": "python",
      "pygments_lexer": "ipython3",
      "version": "3.8"
    }
  },
  "nbformat_minor": 5,
  "nbformat": 4,
  "cells": [
    {
      "id": "6eb062bf-4d4b-4a2d-8d73-6ac5a6f3c223",
      "cell_type": "markdown",
      "source": "# Data Science Tools and Ecosystem",
      "metadata": {}
    },
    {
      "id": "42d89c47-c099-4305-ac87-172ed2f2b974",
      "cell_type": "markdown",
      "source": "In this notebook, Data Science Tools and Ecosystem are summarized.",
      "metadata": {}
    },
    {
      "id": "c657725f-3406-4e84-a2ab-d9347613fe0b",
      "cell_type": "markdown",
      "source": "#### Some of the popular languages that Data Scientists use are:\n1. Python\n2. R\n3. SQL\n4. Java",
      "metadata": {}
    },
    {
      "id": "dcb915ef-a7f5-45e6-94a8-8306a6c31399",
      "cell_type": "markdown",
      "source": "#### Some of the commonly used libraries used by Data Scientists include:\n1. pandas\n2. numpy\n3. mathplotlib\n4. seaborns\n5. tree\n",
      "metadata": {}
    },
    {
      "id": "d28798c7-2b8b-4fd7-b724-c4660ccbcc65",
      "cell_type": "markdown",
      "source": "|Data Science Tools|\n|---------------------|\n|Juypter notebook|\n|R studio|\n|Visual Studio Code|\n|JuypterLab|",
      "metadata": {}
    },
    {
      "id": "738f816f-3ddd-4cdf-9336-4f6fa25c4211",
      "cell_type": "markdown",
      "source": "### Below are a few examples of evaluating arithmetic expressions in Python",
      "metadata": {}
    },
    {
      "id": "07041816-59a2-4c1a-9d15-0e233323de2f",
      "cell_type": "code",
      "source": "# This a simple arithmetic expression to mutiply then add integers\n(3*4)+5",
      "metadata": {
        "trusted": true
      },
      "outputs": [
        {
          "execution_count": 1,
          "output_type": "execute_result",
          "data": {
            "text/plain": "17"
          },
          "metadata": {}
        }
      ],
      "execution_count": 1
    },
    {
      "id": "4f55b088-9825-472b-9d69-1363013ae467",
      "cell_type": "code",
      "source": "# This will convert 200 minutes to hours\n200/6",
      "metadata": {
        "trusted": true
      },
      "outputs": [
        {
          "execution_count": 2,
          "output_type": "execute_result",
          "data": {
            "text/plain": "33.333333333333336"
          },
          "metadata": {}
        }
      ],
      "execution_count": 2
    },
    {
      "id": "f6631d19-aa01-40c5-ab11-2cf28dc569f3",
      "cell_type": "markdown",
      "source": "__Objectives:__\n+ learn data science\n+ learn python \n+ earn a certificate",
      "metadata": {}
    },
    {
      "id": "e1d9ff3e-f1f1-4717-b259-4d117a8107e4",
      "cell_type": "markdown",
      "source": "## <h2 align=\"center\"> Author: </h2>\n<h2 align=\"center\">Zeal Nilesh Vira</h2>",
      "metadata": {}
    },
    {
      "id": "789c2a01-9f06-4587-a4f1-9430c6efbcb7",
      "cell_type": "code",
      "source": "",
      "metadata": {
        "trusted": true
      },
      "outputs": [],
      "execution_count": null
    }
  ]
}